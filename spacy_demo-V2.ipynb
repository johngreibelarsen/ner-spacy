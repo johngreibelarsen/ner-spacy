{
 "cells": [
  {
   "cell_type": "code",
   "execution_count": 1,
   "metadata": {},
   "outputs": [],
   "source": [
    "import spacy\n",
    "import sys\n",
    "from collections import defaultdict\n",
    "\n",
    "nlp = spacy.load('en_core_web_md')"
   ]
  },
  {
   "cell_type": "code",
   "execution_count": 12,
   "metadata": {},
   "outputs": [
    {
     "name": "stdout",
     "output_type": "stream",
     "text": [
      "[<spacy.syntax.stateclass.StateClass object at 0x000001DAADA22F78>]\n",
      "<class 'spacy.pipeline.pipes.EntityRecognizer'>\n",
      "Donald Duck 14 25 PERSON People, including fictional\n",
      "American 32 40 NORP Nationalities or religious or political groups\n",
      "32345128 62 70 CARDINAL Numerals that do not fall under another type\n",
      "12 86 88 CARDINAL Numerals that do not fall under another type\n",
      "VISA 115 119 ORG Companies, agencies, institutions, etc.\n",
      "4444333322221111 123 139 DATE Absolute or relative dates or periods\n",
      "325 211 214 MONEY Monetary values, including unit\n",
      "10-05-2011 247 257 DATE Absolute or relative dates or periods\n",
      "2 281 282 CARDINAL Numerals that do not fall under another type\n",
      "Webfoot Walk 426 438 FAC Buildings, airports, highways, bridges, etc.\n",
      "Duckburg 440 448 GPE Countries, cities, states\n",
      "Calisota 450 458 GPE Countries, cities, states\n"
     ]
    }
   ],
   "source": [
    "chat_text = ('Hi my name is Donald Duck, I am American, and my bank account 32345128 with sort code 12-15-18. \\\n",
    "                My VISA is 4444333322221111 how do I get access to online banking? \\\n",
    "                I think I have $325 on my account when I checked on 10-05-2011 \\\n",
    "                I have 2 accounts with you. \\\n",
    "                You can reach me on phone 01234 000 001 or donaldduck@gmail.com. \\\n",
    "                Ohh and my address is 1313 Webfoot Walk, Duckburg, Calisota')\n",
    "chat_test_doc = nlp(chat_text)\n",
    "ner = nlp.get_pipe('ner')\n",
    "print(ner.predict(chat_test_doc))\n",
    "print(type(ner))\n",
    "for ent in chat_test_doc.ents:\n",
    "    print(ent.text, ent.start_char, ent.end_char, ent.label_, spacy.explain(ent.label_))"
   ]
  },
  {
   "cell_type": "code",
   "execution_count": 13,
   "metadata": {},
   "outputs": [
    {
     "name": "stderr",
     "output_type": "stream",
     "text": [
      "E:\\Anaconda\\envs\\ML-NLP-GPU\\lib\\runpy.py:193: UserWarning: [W011] It looks like you're calling displacy.serve from within a Jupyter notebook or a similar environment. This likely means you're already running a local web server, so there's no need to make displaCy start another one. Instead, you should be able to replace displacy.serve with displacy.render to show the visualization.\n",
      "  \"__main__\", mod_spec)\n"
     ]
    },
    {
     "data": {
      "text/html": [
       "<!DOCTYPE html>\n",
       "<html lang=\"en\">\n",
       "    <head>\n",
       "        <title>displaCy</title>\n",
       "    </head>\n",
       "\n",
       "    <body style=\"font-size: 16px; font-family: -apple-system, BlinkMacSystemFont, 'Segoe UI', Helvetica, Arial, sans-serif, 'Apple Color Emoji', 'Segoe UI Emoji', 'Segoe UI Symbol'; padding: 4rem 2rem; direction: ltr\">\n",
       "<figure style=\"margin-bottom: 6rem\">\n",
       "<div class=\"entities\" style=\"line-height: 2.5; direction: ltr\">Hi my name is \n",
       "<mark class=\"entity\" style=\"background: #aa9cfc; padding: 0.45em 0.6em; margin: 0 0.25em; line-height: 1; border-radius: 0.35em;\">\n",
       "    Donald Duck\n",
       "    <span style=\"font-size: 0.8em; font-weight: bold; line-height: 1; border-radius: 0.35em; text-transform: uppercase; vertical-align: middle; margin-left: 0.5rem\">PERSON</span>\n",
       "</mark>\n",
       ", I am \n",
       "<mark class=\"entity\" style=\"background: #c887fb; padding: 0.45em 0.6em; margin: 0 0.25em; line-height: 1; border-radius: 0.35em;\">\n",
       "    American\n",
       "    <span style=\"font-size: 0.8em; font-weight: bold; line-height: 1; border-radius: 0.35em; text-transform: uppercase; vertical-align: middle; margin-left: 0.5rem\">NORP</span>\n",
       "</mark>\n",
       ", and my bank account \n",
       "<mark class=\"entity\" style=\"background: #e4e7d2; padding: 0.45em 0.6em; margin: 0 0.25em; line-height: 1; border-radius: 0.35em;\">\n",
       "    32345128\n",
       "    <span style=\"font-size: 0.8em; font-weight: bold; line-height: 1; border-radius: 0.35em; text-transform: uppercase; vertical-align: middle; margin-left: 0.5rem\">CARDINAL</span>\n",
       "</mark>\n",
       " with sort code \n",
       "<mark class=\"entity\" style=\"background: #e4e7d2; padding: 0.45em 0.6em; margin: 0 0.25em; line-height: 1; border-radius: 0.35em;\">\n",
       "    12\n",
       "    <span style=\"font-size: 0.8em; font-weight: bold; line-height: 1; border-radius: 0.35em; text-transform: uppercase; vertical-align: middle; margin-left: 0.5rem\">CARDINAL</span>\n",
       "</mark>\n",
       "-15-18.                 My \n",
       "<mark class=\"entity\" style=\"background: #7aecec; padding: 0.45em 0.6em; margin: 0 0.25em; line-height: 1; border-radius: 0.35em;\">\n",
       "    VISA\n",
       "    <span style=\"font-size: 0.8em; font-weight: bold; line-height: 1; border-radius: 0.35em; text-transform: uppercase; vertical-align: middle; margin-left: 0.5rem\">ORG</span>\n",
       "</mark>\n",
       " is \n",
       "<mark class=\"entity\" style=\"background: #bfe1d9; padding: 0.45em 0.6em; margin: 0 0.25em; line-height: 1; border-radius: 0.35em;\">\n",
       "    4444333322221111\n",
       "    <span style=\"font-size: 0.8em; font-weight: bold; line-height: 1; border-radius: 0.35em; text-transform: uppercase; vertical-align: middle; margin-left: 0.5rem\">DATE</span>\n",
       "</mark>\n",
       " how do I get access to online banking?                 I think I have $\n",
       "<mark class=\"entity\" style=\"background: #e4e7d2; padding: 0.45em 0.6em; margin: 0 0.25em; line-height: 1; border-radius: 0.35em;\">\n",
       "    325\n",
       "    <span style=\"font-size: 0.8em; font-weight: bold; line-height: 1; border-radius: 0.35em; text-transform: uppercase; vertical-align: middle; margin-left: 0.5rem\">MONEY</span>\n",
       "</mark>\n",
       " on my account when I checked on \n",
       "<mark class=\"entity\" style=\"background: #bfe1d9; padding: 0.45em 0.6em; margin: 0 0.25em; line-height: 1; border-radius: 0.35em;\">\n",
       "    10-05-2011\n",
       "    <span style=\"font-size: 0.8em; font-weight: bold; line-height: 1; border-radius: 0.35em; text-transform: uppercase; vertical-align: middle; margin-left: 0.5rem\">DATE</span>\n",
       "</mark>\n",
       "                 I have \n",
       "<mark class=\"entity\" style=\"background: #e4e7d2; padding: 0.45em 0.6em; margin: 0 0.25em; line-height: 1; border-radius: 0.35em;\">\n",
       "    2\n",
       "    <span style=\"font-size: 0.8em; font-weight: bold; line-height: 1; border-radius: 0.35em; text-transform: uppercase; vertical-align: middle; margin-left: 0.5rem\">CARDINAL</span>\n",
       "</mark>\n",
       " accounts with you.                 You can reach me on phone 01234 000 001 or donaldduck@gmail.com.                 Ohh and my address is 1313 \n",
       "<mark class=\"entity\" style=\"background: #ddd; padding: 0.45em 0.6em; margin: 0 0.25em; line-height: 1; border-radius: 0.35em;\">\n",
       "    Webfoot Walk\n",
       "    <span style=\"font-size: 0.8em; font-weight: bold; line-height: 1; border-radius: 0.35em; text-transform: uppercase; vertical-align: middle; margin-left: 0.5rem\">FAC</span>\n",
       "</mark>\n",
       ", \n",
       "<mark class=\"entity\" style=\"background: #feca74; padding: 0.45em 0.6em; margin: 0 0.25em; line-height: 1; border-radius: 0.35em;\">\n",
       "    Duckburg\n",
       "    <span style=\"font-size: 0.8em; font-weight: bold; line-height: 1; border-radius: 0.35em; text-transform: uppercase; vertical-align: middle; margin-left: 0.5rem\">GPE</span>\n",
       "</mark>\n",
       ", \n",
       "<mark class=\"entity\" style=\"background: #feca74; padding: 0.45em 0.6em; margin: 0 0.25em; line-height: 1; border-radius: 0.35em;\">\n",
       "    Calisota\n",
       "    <span style=\"font-size: 0.8em; font-weight: bold; line-height: 1; border-radius: 0.35em; text-transform: uppercase; vertical-align: middle; margin-left: 0.5rem\">GPE</span>\n",
       "</mark>\n",
       "</div>\n",
       "</figure>\n",
       "</body>\n",
       "</html>"
      ],
      "text/plain": [
       "<IPython.core.display.HTML object>"
      ]
     },
     "metadata": {},
     "output_type": "display_data"
    },
    {
     "name": "stdout",
     "output_type": "stream",
     "text": [
      "\n",
      "Using the 'ent' visualizer\n",
      "Serving on http://0.0.0.0:5000 ...\n",
      "\n",
      "Shutting down server on port 5000.\n"
     ]
    }
   ],
   "source": [
    "from spacy import displacy\n",
    "\n",
    "displacy.serve(chat_test_doc, style='ent')"
   ]
  },
  {
   "cell_type": "code",
   "execution_count": 18,
   "metadata": {},
   "outputs": [
    {
     "name": "stdout",
     "output_type": "stream",
     "text": [
      "Entities and scores (detected with beam search)\n",
      "Label: PERSON, Text: Donald Duck, Score: 0.9357815980788531\n",
      "Label: NORP, Text: American, Score: 1.0\n",
      "Label: CARDINAL, Text: 32345128, Score: 1.0\n",
      "Label: MONEY, Text: 325, Score: 1.0\n",
      "Label: DATE, Text: 10-05-2011, Score: 1.0\n",
      "Label: CARDINAL, Text: 2, Score: 1.0\n",
      "Label: FAC, Text: Webfoot Walk, Score: 1.0\n",
      "Label: GPE, Text: Duckburg, Score: 1.0\n",
      "Label: GPE, Text: Calisota, Score: 0.8795162506840635\n"
     ]
    }
   ],
   "source": [
    "#nlp = spacy.load('en')\n",
    "text = u'Will Japan join the European Union? If yes, we should move to United States. Fasten your belts, America we are coming'\n",
    "\n",
    "\n",
    "with nlp.disable_pipes('ner'):\n",
    "    doc = nlp(chat_text)\n",
    "\n",
    "threshold = 0.2\n",
    "beams = nlp.entity.beam_parse([ doc ], beam_width = 16, beam_density = 0.0001)\n",
    "\n",
    "entity_scores = defaultdict(float)\n",
    "for beam in beams:\n",
    "    for score, ents in nlp.entity.moves.get_beam_parses(beam):\n",
    "        #print ('ents: {}, Score: {}'.format(ents, score))\n",
    "        for start, end, label in ents:\n",
    "            entity_scores[(start, end, label)] += score\n",
    "\n",
    "print ('Entities and scores (detected with beam search)')\n",
    "for key in entity_scores:\n",
    "    start, end, label = key\n",
    "    score = entity_scores[key]\n",
    "    if ( score > threshold):\n",
    "        print ('Label: {}, Text: {}, Score: {}'.format(label, doc[start:end], score))"
   ]
  },
  {
   "cell_type": "markdown",
   "metadata": {},
   "source": [
    "### Let's create a Custom Named Entity \n",
    "\n",
    "#### Capture Email, Phone, Bank Account and Sort Code"
   ]
  },
  {
   "cell_type": "code",
   "execution_count": null,
   "metadata": {},
   "outputs": [],
   "source": [
    "data1 = 'My bank account is 09876543 with sort code 11-01-45.'\n",
    "    \n",
    "data2 = 'You can reach me on my email abc@hotmail.co.uk or call me on 07726 000 123'\n",
    "\n",
    "data3 = 'Bank Account 09780909, Sort Code 12-34-56'\n",
    "\n",
    "data4 = 'Contact me on mail mickeymouse@yahoo.com or 01480 345 345'\n",
    "\n",
    "data5 = 'Hi bank people. Need help with my account, account is 45674567, call me on 01345 567567'\n",
    "\n",
    "data6 = 'Can you help me with my sort 34-23-12 and contact me using xyz@googlemail.dk'\n",
    "\n",
    "data7 = 'I live here in the UK and need help with accessing my account. Bank acc is 09876543, 13-20-54. Let me know on 1290 344 456 or helpme@outlook.com'\n",
    "\n",
    "data8 = 'Sort Code 33-34-35, Bank Account 33445566'\n",
    "\n",
    "data9 = 'Email: Guffy@yahoo.com; phone: 01346 022 773'\n",
    "\n",
    "data10 = 'Help, my sort code is 22-23-71, contact me using Daisy@googlemail.co.uk, ohh account no is 44435987'\n",
    "\n"
   ]
  },
  {
   "cell_type": "code",
   "execution_count": null,
   "metadata": {},
   "outputs": [],
   "source": [
    "TRAIN_DATA = [\n",
    "    (data1, {\n",
    "        'entities': [(19, 27, 'BANK_ACCOUNT'), (43, 51, 'SORT_CODE')]\n",
    "    }),\n",
    "     (data2, {\n",
    "         'entities': [(29, 46, 'EMAIL'), (61, 74, 'PHONE')]\n",
    "    }),\n",
    "     (data3, {\n",
    "         'entities': [(13, 21, 'BANK_ACCOUNT'), (33, 41, 'SORT_CODE')]\n",
    "    }),\n",
    "     (data4, {\n",
    "         'entities': [(19, 40, 'EMAIL'), (44, 57, 'PHONE')]\n",
    "    }),\n",
    "     (data5, {\n",
    "         'entities': [(54, 62, 'BANK_ACCOUNT'), (75, 87, 'PHONE')]\n",
    "    }),\n",
    "     (data6, {\n",
    "         'entities': [(29, 37, 'SORT_CODE'), (59, 76, 'EMAIL')]\n",
    "    }),\n",
    "     (data7, {\n",
    "         'entities': [(75, 83, 'BANK_ACCOUNT'), (85, 93, 'SORT_CODE'), (110, 122, 'PHONE'), (126, 144, 'EMAIL')]\n",
    "    }),\n",
    "     (data8, {\n",
    "         'entities': [(10, 18, 'SORT_CODE'), (33, 41, 'BANK_ACCOUNT')]\n",
    "    }),\n",
    "     (data9, {\n",
    "         'entities': [(7, 22, 'EMAIL'), (31, 44, 'PHONE')]\n",
    "    }),\n",
    "     (data10, {\n",
    "         'entities': [(22, 30, 'SORT_CODE'), (49, 71, 'EMAIL'), (91, 99, 'BANK_ACCOUNT')]\n",
    "    }),\n",
    "\n",
    "]"
   ]
  },
  {
   "cell_type": "code",
   "execution_count": null,
   "metadata": {},
   "outputs": [],
   "source": [
    "import random\n",
    "from tqdm import tqdm\n",
    "\n",
    "ner = nlp.get_pipe('ner')\n",
    "\n",
    "n_iter=200\n",
    "# add labels, Trains data based on annotations \n",
    "for _, annotations in TRAIN_DATA:\n",
    "    for ent in annotations.get('entities'):\n",
    "        print(ent[2])\n",
    "        ner.add_label(ent[2])\n",
    "\n",
    "# get names of other pipes to disable them during training\n",
    "other_pipes = [pipe for pipe in nlp.pipe_names if pipe != 'ner']\n",
    "with nlp.disable_pipes(*other_pipes):  # only train NER\n",
    "    optimizer = nlp.begin_training()\n",
    "    for itn in range(n_iter):\n",
    "        random.shuffle(TRAIN_DATA)\n",
    "        losses = {}\n",
    "        for text, annotations in tqdm(TRAIN_DATA):\n",
    "            nlp.update(\n",
    "                [text],  # batch of texts\n",
    "                [annotations],  # batch of annotations\n",
    "                drop=0.5,  # dropout \n",
    "                sgd=optimizer,  # callable to update weights\n",
    "                losses=losses)\n",
    "        print(losses)"
   ]
  },
  {
   "cell_type": "code",
   "execution_count": null,
   "metadata": {},
   "outputs": [],
   "source": [
    "# internal test to check mappings of input test data, that is, string locations of entities\n",
    "for text, _ in TRAIN_DATA:\n",
    "    doc = nlp(text)\n",
    "    print('Entities', [(ent.text, ent.label_) for ent in doc.ents])"
   ]
  },
  {
   "cell_type": "code",
   "execution_count": null,
   "metadata": {},
   "outputs": [],
   "source": [
    "new_chat_test_doc = nlp(chat_text)\n",
    "displacy.serve(new_chat_test_doc, style='ent')"
   ]
  },
  {
   "cell_type": "markdown",
   "metadata": {},
   "source": [
    "#### Finding the confidence score for an entity "
   ]
  },
  {
   "cell_type": "code",
   "execution_count": null,
   "metadata": {},
   "outputs": [],
   "source": [
    "for ent in new_chat_test_doc.ents:\n",
    "    print(ent.text, ent.start_char, ent.end_char, ent.label_, spacy.explain(ent.label_))"
   ]
  }
 ],
 "metadata": {
  "kernelspec": {
   "display_name": "Python 3",
   "language": "python",
   "name": "python3"
  },
  "language_info": {
   "codemirror_mode": {
    "name": "ipython",
    "version": 3
   },
   "file_extension": ".py",
   "mimetype": "text/x-python",
   "name": "python",
   "nbconvert_exporter": "python",
   "pygments_lexer": "ipython3",
   "version": "3.7.3"
  }
 },
 "nbformat": 4,
 "nbformat_minor": 2
}
